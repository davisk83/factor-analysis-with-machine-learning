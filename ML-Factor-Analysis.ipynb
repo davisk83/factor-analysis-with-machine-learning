{
 "cells": [
  {
   "cell_type": "markdown",
   "metadata": {},
   "source": [
    "# Factor Analysis with Machine Learning\n",
    "### Author: Davis Kurniawan, Ivanna Maxwell"
   ]
  },
  {
   "cell_type": "markdown",
   "metadata": {},
   "source": [
    "# Introduction"
   ]
  },
  {
   "cell_type": "markdown",
   "metadata": {},
   "source": [
    "The main idea behind this machine learning project is to develop and train couple algorithms that fit stocks characteristics and predict the return outcomes given a specific period of time. We will mainly be focusing onto performing technical analysis rather than fundamental analysis, which means that we will deep dive into economic and financial factors that drive the overall return of a stock. Specifically, we will be implementing two tree-based methods, namely Random Forest and Ada Boost, tuning the hyperparameters with Grid Search cross validation, training, testing, and evaluating the performance of each of the model onto our dataset.\n",
    "\n",
    "Existing literature that covers wide applications and practical considerations of the two aforementioned models include:\n",
    "\n",
    "1. Random Forests Regressor\n",
    "    - [Breiman, Leo. 2001. Random Forests](https://www.stat.berkeley.edu/~breiman/randomforest2001.pdf)\n",
    "    \n",
    "    - [Biau, Gérard. 2012. Analysis of a Random Forest Model](https://www.jmlr.org/papers/volume13/biau12a/biau12a.pdf)\n",
    "\n",
    "    - [Scornet, Erwan, Gérard Biau, Jean-Philippe Vert, et al. 2015. Consistency of Random Forests](https://arxiv.org/pdf/1405.2881.pdf)\n",
    "2. Ada Boost Regressor\n",
    "    - [Breiman, Leo. 2004. Population Theory for Boosting Ensembles.](https://projecteuclid.org/journals/annals-of-applied-statistics/volume-4/issue-4/Remembering-Leo-Breiman/10.1214/10-AOAS427.pdf)\n",
    "\n",
    "    - [Drucker, Harris. 1997. Improving Regressors Using Boosting Techniques.](https://www.researchgate.net/publication/2424244_Improving_Regressors_Using_Boosting_Techniques)\n",
    "    \n",
    "    - [Friedman, Jerome, Trevor Hastie, Robert Tibshirani, et al. 2000. Additive Logistic Regression: A Statistical View of Boosting (with Discussion and a Rejoinder by the Authors)](https://projecteuclid.org/journals/annals-of-statistics/volume-28/issue-2/Additive-logistic-regression--a-statistical-view-of-boosting-With/10.1214/aos/1016218223.full)\n",
    "\n",
    "3. Grid Search Cross Validation\n",
    "    - [Bouthillier, Xavier, and Gaël Varoquaux. 2020. Survey of Machine-Learning Experimental Methods at NeurIPS2019 and ICLR2020](https://hal.archives-ouvertes.fr/hal-02447823/document)\n",
    "\n",
    "Our target audience will be mainly for other groups of students who are interested in machine learning applications in the investment industry. However, other groups such as asset management firms and scholars are also included in our target audience. We will implement at least 2 sets of algorithms and evaluate the different performances of each algorithm."
   ]
  },
  {
   "cell_type": "markdown",
   "metadata": {},
   "source": [
    "### Machine Learning Factor Dataset"
   ]
  },
  {
   "cell_type": "markdown",
   "metadata": {},
   "source": [
    "The data set used throughout this project comprises of US stocks information ranging from November 1998 to March 2019. For each listed stock, this data set includes 93 characteristics that cover topics ranging from valuation, momentum, volatility, and other attributes, as well as return in 1, 3, 6, and 12 months period. Here, the 93 characteristics can be used as the features, while the returns in different period can be used as the labels.\n",
    "\n",
    "\n",
    "Link to data CSV file: [Machine Learning Factor Dataset](https://drive.google.com/file/d/1Oh-UjErlnG3cwXYxFMDd6tW-RMPeD1PR/view?usp=sharing)\n",
    "\n",
    "Data Source Reference: [Machine Learning for Factor Investing](http://www.mlfactor.com/)\n",
    "\n",
    "\n",
    "**Information regarding the features and labels:**\n",
    "\n",
    "| Column Name | Description  \n",
    "|------------ | ---------------\n",
    "|stock_id\t| security id \n",
    "|date | date of the data \n",
    "|Advt_12M_Usd|\taverage daily volume in amount in USD over 12 months \n",
    "|Advt_3M_Usd|\taverage daily volume in amount in USD over 3 months\n",
    "|Advt_6M_Usd|\taverage daily volume in amount in USD over 6 months\n",
    "|Asset_Turnover|\ttotal sales on average assets\n",
    "|Bb_Yld|\tbuyback yield\n",
    "|Bv\t|book value\n",
    "|Capex_Ps_Cf\t|capital expenditure on price to sale cash flow\n",
    "|Capex_Sales|\tcapital expenditure on sales\n",
    "|Cash_Div_Cf|\tcash dividends cash flow\n",
    "|Cash_Per_Share|\tcash per share\n",
    "|Cf_Sales\t|cash flow per share\n",
    "|Debtequity\t|debt to equity\n",
    "|Div_Yld\t|dividend yield\n",
    "|Dps|\tdividend per share\n",
    "|Ebit_Bv|\tEBIT on book value\n",
    "|Ebit_Noa\t|EBIT on non operating asset\n",
    "|Ebit_Oa|\tEBIT on operating asset\n",
    "|Ebit_Ta\t|EBIT on total asset\n",
    "|Ebitda_Margin|\tEBITDA margin\n",
    "|Eps|\tearnings per share\n",
    "|Eps_Basic|\tearnings per share basic\n",
    "|Eps_Basic_Gr|\tearnings per share growth\n",
    "|Eps_Contin_Oper|\tearnings per share continuing operations\n",
    "|Eps_Dil|\tearnings per share diluted\n",
    "|Ev\t|enterprise value\n",
    "|Ev_Ebitda|\tenterprise value on EBITDA\n",
    "|Fa_Ci\t|fixed assets on common equity\n",
    "|Fcf|\tfree cash flow\n",
    "|Fcf_Bv\t|free cash flow on book value\n",
    "|Fcf_Ce\t|free cash flow on capital employed\n",
    "|Fcf_Margin\t|free cash flow margin\n",
    "|Fcf_Noa|\tfree cash flow on net operating assets\n",
    "|Fcf_Oa\t|free cash flow on operating assets\n",
    "|Fcf_Ta\t|free cash flow on total assets\n",
    "|Fcf_Tbv|\tfree cash flow on tangible book value\n",
    "|Fcf_Toa|\tfree cash flow on total operating assets\n",
    "|Fcf_Yld|\tfree cash flow yield\n",
    "|Free_Ps_Cf\t|free cash flow on price sales\n",
    "|Int_Rev|\tintangibles on revenues\n",
    "|Interest_Expense|\tinterest expense coverage\n",
    "|Mkt_Cap_12M_Usd|\taverage market capitalization over 12 months in USD\n",
    "|Mkt_Cap_3M_Usd\t|average market capitalization over 3 months in USD\n",
    "|Mkt_Cap_6M_Usd\t|average market capitalization over 6 months in USD\n",
    "|Mom_11M_Usd|\tprice momentum 12 - 1 months in USD\n",
    "|Mom_5M_Usd|\tprice momentum 6 - 1 months in USD\n",
    "|Mom_Sharp_11M_Usd|\tprice momentum 12 - 1 months in USD divided by volatility\n",
    "|Mom_Sharp_5M_Usd|\tprice momentum 6 - 1 months in USD divided by volatility\n",
    "|Nd_Ebitda|\tnet debt on EBITDA\n",
    "|Net_Debt|\tnet debt\n",
    "|Net_Debt_Cf|\tnet debt on cash flow\n",
    "|Net_Margin|\tnet margin\n",
    "|Netdebtyield|\tnet debt yield\n",
    "|Ni\t|net income\n",
    "|Ni_Avail_Margin|\tnet income available margin\n",
    "|Ni_Oa|\tnet income on operating asset\n",
    "|Ni_Toa\t|net income on total operating asset\n",
    "|Noa|\tnet operating asset\n",
    "|Oa|\toperating asset\n",
    "|Ocf|\toperating cash flow\n",
    "|Ocf_Bv\t|operating cash flow on book value\n",
    "|Ocf_Ce|\toperating cash flow on capital employed\n",
    "|Ocf_Margin|\toperating cash flow margin\n",
    "|Ocf_Noa|\toperating cash flow on net operating assets\n",
    "|Ocf_Oa|\toperating cash flow on operating assets\n",
    "|Ocf_Ta\t|   operating cash flow on total assets\n",
    "|Ocf_Tbv|\toperating cash flow on tangible book value\n",
    "|Ocf_Toa|\toperating cash flow on total operating assets\n",
    "|Op_Margin|\toperating margin\n",
    "|Op_Prt_Margin|\tnet margin 1Y growth\n",
    "|Oper_Ps_Net_Cf\t|cash flow from operations per share net\n",
    "|Pb\t|price to book\n",
    "|Pe|\tprice earnings\n",
    "|Ptx_Mgn|\tmargin pretax\n",
    "|Recurring_Earning_Total_Assets\t|reccuring earnings on total assets\n",
    "|Return_On_Capital|\treturn on capital\n",
    "|Rev|\trevenue\n",
    "|Roa|\treturn on assets\n",
    "|Roc|\treturn on capital\n",
    "|Roce|\treturn on capital employed\n",
    "|oe|\treturn on equity\n",
    "|Sales_Ps|\tprice to sales\n",
    "|Share_Turn_12M|\taverage share turnover 12 months\n",
    "|Share_Turn_3M\t|average share turnover 3 months\n",
    "|Share_Turn_6M|\taverage share turnover 6 months\n",
    "|Ta|\ttotal assets\n",
    "|Tev_Less_Mktcap|\ttotal enterprise value less market capitalization\n",
    "|Tot_Debt_Rev\t|total debt on revenue\n",
    "|Total_Capital|\ttotal capital\n",
    "|Total_Debt|\ttotal debt\n",
    "|Total_Debt_Capital|\ttotal debt on capital\n",
    "|Total_Liabilities_Total_Assets|\ttotal liabilities on total assets\n",
    "|Vol1Y_Usd|\tvolatility of returns over one year\n",
    "|Vol3Y_Usd|\tvolatility of returns over 3 years\n",
    "|R1M_Usd|\treturn forward 1 month (label)\n",
    "|R3M_Usd|\treturn forward 3 months (label)\n",
    "|R6M_Usd\t|return forward 6 months (label)\n",
    "|R12M_Usd |\treturn forward 12 months (label)\n",
    "\n",
    "\n",
    "**Reference:**\n",
    "- T. G. Guillaume Coqueret. Machine Learning for Factor Investing: R Version. Chapman Hall/CRC Financial Mathematics Series. Chapman and Hall/CRC, 1 edition, 2020."
   ]
  },
  {
   "cell_type": "markdown",
   "metadata": {},
   "source": [
    "# Data Preprocessing\n",
    "\n",
    "In this section, we will investigate the number of features and observations in our data set, group different columns to different fundamental style factors, and split and preprocess the data by standardizing the data."
   ]
  },
  {
   "cell_type": "markdown",
   "metadata": {},
   "source": [
    "**First, we will import all the libraries needed for this project**"
   ]
  },
  {
   "cell_type": "code",
   "execution_count": 92,
   "metadata": {},
   "outputs": [],
   "source": [
    "# import libraries needed for the project\n",
    "import zipfile\n",
    "import numpy as np\n",
    "import pandas as pd\n",
    "import seaborn as sn\n",
    "\n",
    "import matplotlib.pyplot as plt\n",
    "\n",
    "from sklearn.model_selection import train_test_split\n",
    "from sklearn.preprocessing import StandardScaler\n",
    "from sklearn.tree import DecisionTreeRegressor\n",
    "from sklearn.ensemble import RandomForestRegressor\n",
    "from sklearn.ensemble import AdaBoostRegressor\n",
    "from sklearn.model_selection import GridSearchCV\n",
    "from sklearn.metrics import mean_squared_error\n",
    "from sklearn.decomposition import PCA"
   ]
  },
  {
   "cell_type": "markdown",
   "metadata": {},
   "source": [
    "**Load dataset from zipped folder**"
   ]
  },
  {
   "cell_type": "code",
   "execution_count": 93,
   "metadata": {},
   "outputs": [],
   "source": [
    "# load data from local zip folder\n",
    "with zipfile.ZipFile(\"data.zip\") as z:\n",
    "    with z.open(\"data/ml_factor_data.csv\") as d:\n",
    "        # load data\n",
    "        ml_factor_df = pd.read_csv(d)"
   ]
  },
  {
   "cell_type": "markdown",
   "metadata": {},
   "source": [
    "**Feature selection**\n",
    "- Remove unnecessary columns"
   ]
  },
  {
   "cell_type": "code",
   "execution_count": 94,
   "metadata": {},
   "outputs": [],
   "source": [
    "# remove first 3 columns (unnamed, stock ID, and date) that we will not use\n",
    "df = ml_factor_df.iloc[:, 3:]"
   ]
  },
  {
   "cell_type": "markdown",
   "metadata": {},
   "source": [
    "- Grab necessary features and labels columns\n",
    "- Group available features based on Axioma and MSCI style factors descriptors and aggregate mean values:\n",
    "    - **Dividend Yield**: dividend yield\n",
    "    - **Growth**: earnings per share growth\n",
    "    - **Leverage**: total debt on capital, total debt on revenue, debt to equity\n",
    "    - **Liquidity**: average daily volume\n",
    "    - **Profitability**: return on assets, return on equity, operating cash flow on total assets\n",
    "    - **Value**: book to price (1/price to book), earnings to price (1/price earnings)\n",
    "    - **Size**: average market capitalization\n",
    "    - **Volatility**: volatility of returns\n",
    "    - **Momentum**: price momentum, price momentum by volatility\n",
    "- Standardize factors score data\n",
    "\n",
    "References:\n",
    "- Axioma: [Axioma Factors Descriptors](https://www.ibm.com/support/pages/sites/default/files/inline-files/$FILE/Axioma_ModelUpdate-WW4-Jan2018-2.pdf)\n",
    "- MSCI: [MSCI Factors Descriptors](https://www.msci.com/documents/10199/275765e9-d631-4222-b4aa-520f7fa7d830#:~:text=The%20standard%20organizes%20the%2016,%2C%20advisors%2C%20consultants%20and%20investors)"
   ]
  },
  {
   "cell_type": "code",
   "execution_count": 95,
   "metadata": {},
   "outputs": [],
   "source": [
    "# dictionary of factors and corresponding descriptors\n",
    "factors_dict = {\n",
    "    \"dividend_yield\": [\"Div_Yld\"],\n",
    "    \"growth\": [\"Eps_Basic_Gr\"],\n",
    "    \"leverage\": [\"Total_Debt_Capital\", \"Tot_Debt_Rev\", \"Debtequity\"],\n",
    "    \"liquidity\": [\"Advt_12M_Usd\", \"Advt_3M_Usd\", \"Advt_6M_Usd\"],\n",
    "    \"profitability\": [\"Roa\", \"Roe\", \"Ocf_Ta\"],\n",
    "    \"value\": [\"Pb\", \"Pe\"],\n",
    "    \"size\": [\"Mkt_Cap_12M_Usd\", \"Mkt_Cap_3M_Usd\", \"Mkt_Cap_6M_Usd\"],\n",
    "    \"volatility\": [\"Vol1Y_Usd\", \"Vol3Y_Usd\"],\n",
    "    \"momentum\": [\"Mom_11M_Usd\", \"Mom_5M_Usd\", \"Mom_Sharp_11M_Usd\",\"Mom_Sharp_5M_Usd\"]\n",
    "}\n",
    "\n",
    "# labels columns\n",
    "labels_col = df.columns[len(df.columns)-4:]"
   ]
  },
  {
   "cell_type": "code",
   "execution_count": 96,
   "metadata": {},
   "outputs": [],
   "source": [
    "# for each of the factor, calculate mean score\n",
    "features_col = []\n",
    "for f, d in factors_dict.items():\n",
    "    # aggregate mean score\n",
    "    df[f] = df[d].mean(axis=1)\n",
    "\n",
    "    features_col.append(f)\n",
    "\n",
    "# filter df by only neccessary columns (factors and labels)\n",
    "features_col.extend(list(labels_col))\n",
    "data = df.reindex(columns=features_col)"
   ]
  },
  {
   "cell_type": "code",
   "execution_count": 97,
   "metadata": {},
   "outputs": [
    {
     "data": {
      "text/html": [
       "<div>\n",
       "<style scoped>\n",
       "    .dataframe tbody tr th:only-of-type {\n",
       "        vertical-align: middle;\n",
       "    }\n",
       "\n",
       "    .dataframe tbody tr th {\n",
       "        vertical-align: top;\n",
       "    }\n",
       "\n",
       "    .dataframe thead th {\n",
       "        text-align: right;\n",
       "    }\n",
       "</style>\n",
       "<table border=\"1\" class=\"dataframe\">\n",
       "  <thead>\n",
       "    <tr style=\"text-align: right;\">\n",
       "      <th></th>\n",
       "      <th>dividend_yield</th>\n",
       "      <th>growth</th>\n",
       "      <th>leverage</th>\n",
       "      <th>liquidity</th>\n",
       "      <th>profitability</th>\n",
       "      <th>value</th>\n",
       "      <th>size</th>\n",
       "      <th>volatility</th>\n",
       "      <th>momentum</th>\n",
       "      <th>R1M_Usd</th>\n",
       "      <th>R3M_Usd</th>\n",
       "      <th>R6M_Usd</th>\n",
       "      <th>R12M_Usd</th>\n",
       "    </tr>\n",
       "  </thead>\n",
       "  <tbody>\n",
       "    <tr>\n",
       "      <th>0</th>\n",
       "      <td>0.26</td>\n",
       "      <td>0.58</td>\n",
       "      <td>0.783333</td>\n",
       "      <td>0.283333</td>\n",
       "      <td>0.010000</td>\n",
       "      <td>0.5</td>\n",
       "      <td>0.236667</td>\n",
       "      <td>0.860</td>\n",
       "      <td>0.1350</td>\n",
       "      <td>0.089</td>\n",
       "      <td>0.104</td>\n",
       "      <td>0.344</td>\n",
       "      <td>-0.041</td>\n",
       "    </tr>\n",
       "    <tr>\n",
       "      <th>1</th>\n",
       "      <td>0.14</td>\n",
       "      <td>0.58</td>\n",
       "      <td>0.783333</td>\n",
       "      <td>0.283333</td>\n",
       "      <td>0.010000</td>\n",
       "      <td>0.5</td>\n",
       "      <td>0.240000</td>\n",
       "      <td>0.860</td>\n",
       "      <td>0.1750</td>\n",
       "      <td>0.039</td>\n",
       "      <td>0.091</td>\n",
       "      <td>-0.011</td>\n",
       "      <td>-0.253</td>\n",
       "    </tr>\n",
       "    <tr>\n",
       "      <th>2</th>\n",
       "      <td>0.13</td>\n",
       "      <td>0.58</td>\n",
       "      <td>0.783333</td>\n",
       "      <td>0.286667</td>\n",
       "      <td>0.010000</td>\n",
       "      <td>0.5</td>\n",
       "      <td>0.246667</td>\n",
       "      <td>0.875</td>\n",
       "      <td>0.2675</td>\n",
       "      <td>-0.012</td>\n",
       "      <td>0.101</td>\n",
       "      <td>0.118</td>\n",
       "      <td>-0.366</td>\n",
       "    </tr>\n",
       "    <tr>\n",
       "      <th>3</th>\n",
       "      <td>1.00</td>\n",
       "      <td>0.01</td>\n",
       "      <td>0.730000</td>\n",
       "      <td>0.690000</td>\n",
       "      <td>0.243333</td>\n",
       "      <td>0.5</td>\n",
       "      <td>0.243333</td>\n",
       "      <td>0.995</td>\n",
       "      <td>0.0275</td>\n",
       "      <td>0.174</td>\n",
       "      <td>-0.144</td>\n",
       "      <td>-0.518</td>\n",
       "      <td>-0.376</td>\n",
       "    </tr>\n",
       "    <tr>\n",
       "      <th>4</th>\n",
       "      <td>0.99</td>\n",
       "      <td>0.01</td>\n",
       "      <td>0.730000</td>\n",
       "      <td>0.666667</td>\n",
       "      <td>0.243333</td>\n",
       "      <td>0.5</td>\n",
       "      <td>0.213333</td>\n",
       "      <td>0.995</td>\n",
       "      <td>0.0200</td>\n",
       "      <td>-0.106</td>\n",
       "      <td>-0.576</td>\n",
       "      <td>-0.535</td>\n",
       "      <td>-0.113</td>\n",
       "    </tr>\n",
       "  </tbody>\n",
       "</table>\n",
       "</div>"
      ],
      "text/plain": [
       "   dividend_yield  growth  leverage  liquidity  profitability  value  \\\n",
       "0            0.26    0.58  0.783333   0.283333       0.010000    0.5   \n",
       "1            0.14    0.58  0.783333   0.283333       0.010000    0.5   \n",
       "2            0.13    0.58  0.783333   0.286667       0.010000    0.5   \n",
       "3            1.00    0.01  0.730000   0.690000       0.243333    0.5   \n",
       "4            0.99    0.01  0.730000   0.666667       0.243333    0.5   \n",
       "\n",
       "       size  volatility  momentum  R1M_Usd  R3M_Usd  R6M_Usd  R12M_Usd  \n",
       "0  0.236667       0.860    0.1350    0.089    0.104    0.344    -0.041  \n",
       "1  0.240000       0.860    0.1750    0.039    0.091   -0.011    -0.253  \n",
       "2  0.246667       0.875    0.2675   -0.012    0.101    0.118    -0.366  \n",
       "3  0.243333       0.995    0.0275    0.174   -0.144   -0.518    -0.376  \n",
       "4  0.213333       0.995    0.0200   -0.106   -0.576   -0.535    -0.113  "
      ]
     },
     "execution_count": 97,
     "metadata": {},
     "output_type": "execute_result"
    }
   ],
   "source": [
    "# preview data\n",
    "data.head(5)"
   ]
  },
  {
   "cell_type": "markdown",
   "metadata": {},
   "source": [
    "\n",
    "**Investigate correlation between features and labels**\n",
    "\n",
    "Reference for correlation matrix plot code: [Correlation Plot Python](https://datatofish.com/correlation-matrix-pandas/)"
   ]
  },
  {
   "cell_type": "code",
   "execution_count": 98,
   "metadata": {},
   "outputs": [
    {
     "data": {
      "image/png": "[encoded data removed]",
      "text/plain": [
       "<Figure size 1152x864 with 2 Axes>"
      ]
     },
     "metadata": {},
     "output_type": "display_data"
    }
   ],
   "source": [
    "corr_matrix = data.corr()\n",
    "sn.heatmap(corr_matrix, annot=True)\n",
    "sn.set(rc={\"figure.figsize\":(16, 12)})\n",
    "plt.show()"
   ]
  },
  {
   "cell_type": "markdown",
   "metadata": {},
   "source": [
    "- **Comment on the correlation matrix**\n",
    "\n",
    "    As we can see from the correlation matrix above, we observed that the available fundamental factors do not really have a high correlation with any of the periodic returns. For the purpose of this project, we will be using the `R1M_Usd` (1 month return) as our target variable. For this target variable, we noted that volatility, liquidity, and size are the top 3 factors that have the highest correlation with `R1M_Usd`. As a result, we might expect that these factors have higher feature importances than the other features when we investigate our fitted model later on."
   ]
  },
  {
   "cell_type": "markdown",
   "metadata": {},
   "source": [
    "**Split dataset into 20% testing set, 20% validation of the remaining set, and the rest is training set**\n",
    "\n",
    "We will use random_state=42 to ensure consistency across each run."
   ]
  },
  {
   "cell_type": "code",
   "execution_count": 118,
   "metadata": {},
   "outputs": [],
   "source": [
    "# divide data into X and y\n",
    "X = data.loc[:, ~data.columns.isin(labels_col)]\n",
    "y = data.loc[:, data.columns.isin(labels_col)]\n",
    "\n",
    "# split X and y into testing and full training set\n",
    "X_full_train, X_test_ori, y_full_train, y_test = train_test_split(X, y, test_size=0.2, random_state=42)\n",
    "\n",
    "# split full training set into training and validation set\n",
    "X_train_ori, X_valid_ori, y_train, y_valid = train_test_split(X_full_train, y_full_train, test_size=0.2, random_state=42)"
   ]
  },
  {
   "cell_type": "code",
   "execution_count": 119,
   "metadata": {},
   "outputs": [],
   "source": [
    "# standardize the data\n",
    "std_scaler = StandardScaler()\n",
    "X_train = std_scaler.fit_transform(X_train_ori)\n",
    "X_test = std_scaler.transform(X_test_ori)\n",
    "X_valid = std_scaler.transform(X_valid_ori)"
   ]
  },
  {
   "cell_type": "markdown",
   "metadata": {},
   "source": [
    "# Simple 0 Model\n",
    "**Author: Ivanna Maxwell and Davis Kurniawan**\n",
    "\n",
    "Let's first try out a simple model where it always predicts the return output as 0. We will evaluate the root mean squared error of the validation set for the evaluation metric."
   ]
  },
  {
   "cell_type": "code",
   "execution_count": 151,
   "metadata": {},
   "outputs": [
    {
     "data": {
      "text/html": [
       "<div>\n",
       "<style scoped>\n",
       "    .dataframe tbody tr th:only-of-type {\n",
       "        vertical-align: middle;\n",
       "    }\n",
       "\n",
       "    .dataframe tbody tr th {\n",
       "        vertical-align: top;\n",
       "    }\n",
       "\n",
       "    .dataframe thead th {\n",
       "        text-align: right;\n",
       "    }\n",
       "</style>\n",
       "<table border=\"1\" class=\"dataframe\">\n",
       "  <thead>\n",
       "    <tr style=\"text-align: right;\">\n",
       "      <th></th>\n",
       "      <th>RMSE</th>\n",
       "    </tr>\n",
       "  </thead>\n",
       "  <tbody>\n",
       "    <tr>\n",
       "      <th>R1M_Usd</th>\n",
       "      <td>0.206493</td>\n",
       "    </tr>\n",
       "    <tr>\n",
       "      <th>R3M_Usd</th>\n",
       "      <td>0.354661</td>\n",
       "    </tr>\n",
       "    <tr>\n",
       "      <th>R6M_Usd</th>\n",
       "      <td>0.499012</td>\n",
       "    </tr>\n",
       "    <tr>\n",
       "      <th>R12M_Usd</th>\n",
       "      <td>0.774061</td>\n",
       "    </tr>\n",
       "  </tbody>\n",
       "</table>\n",
       "</div>"
      ],
      "text/plain": [
       "              RMSE\n",
       "R1M_Usd   0.206493\n",
       "R3M_Usd   0.354661\n",
       "R6M_Usd   0.499012\n",
       "R12M_Usd  0.774061"
      ]
     },
     "execution_count": 151,
     "metadata": {},
     "output_type": "execute_result"
    }
   ],
   "source": [
    "zeros = np.zeros([len(y_valid), len(labels_col)])\n",
    "zeros_rmse_valid = np.sqrt(mean_squared_error(y_valid, zeros, multioutput=\"raw_values\"))\n",
    "\n",
    "# RMSE\n",
    "pd.DataFrame(zeros_rmse_valid, index=labels_col, columns=[\"RMSE\"])"
   ]
  },
  {
   "cell_type": "markdown",
   "metadata": {},
   "source": [
    "As we can see from the root mean squared error (RMSE) output of validation set using a simple model that always predict returns as 0, it turns out that the 1 month return has the least RMSE, and as we increase the period for returns calculation, the RMSE of the simple model also increases."
   ]
  },
  {
   "cell_type": "markdown",
   "metadata": {},
   "source": [
    "# Random Forest Regressor\n",
    "**Author: Ivanna Maxwell**\n",
    "\n",
    "For our first approach, we will be implementing Random Forest Regressor to fit the fundamental factors and the returns value. We will do this on the 1 month return and evaluate the result of using the hyperparameter `min_samples_split=250` and `max_samples=100000` of Random Forest Regressor on the validation set.\n",
    "\n",
    "Then, we will be hypertuning our parameters, namely `n_estimators` and `ccp_alpha` in order to get the best hyperparameters based on the root mean squared error scoring. To do this, we will implement Grid Search cross validation within a range the hyperparameters option declared later in the section. We will also use 3-fold cross validation here.\n",
    "\n",
    "Last but not least, we will evaluate the RMSE score of the best grid search model on the validation and test set to compare the overall performance of the best Random Forest model with the simple Random Forest Regressor and simple 0 model.\n",
    "\n",
    "**Note**: Before we perform any training or grid search CV, we will apply PCA onto the *original training set as given by `X_train_ori`* to find principal components with an explained variance ratio of 70%. This is done to reduce the number of features needed in the model and to also reduce the amount of time it takes to train the model.\n",
    "\n",
    "> PCA on the original training set -> Simple Random Forest Regressor -> Grid Search CV -> Best Random Forest Model -> evaluate on validation set"
   ]
  },
  {
   "cell_type": "markdown",
   "metadata": {},
   "source": [
    "Apply PCA onto the *original training set as given by `X_train_ori`* to find principal components with an explained variance ratio of 70%."
   ]
  },
  {
   "cell_type": "code",
   "execution_count": 129,
   "metadata": {},
   "outputs": [],
   "source": [
    "# perform PCA on original train set\n",
    "pca = PCA()\n",
    "X_train_pca = pca.set_params(n_components=0.7).fit_transform(X_train_ori)"
   ]
  },
  {
   "cell_type": "code",
   "execution_count": 130,
   "metadata": {},
   "outputs": [],
   "source": [
    "# transform our validation and testing set\n",
    "X_valid_pca = pca.transform(X_valid_ori)\n",
    "X_test_pca = pca.transform(X_test_ori)"
   ]
  },
  {
   "cell_type": "markdown",
   "metadata": {},
   "source": [
    "Fit a simple random forest regressor with `n_jobs=-1` and `random_state=42` on the training set for `R1M_Usd` return. Use the following parameters and values:\n",
    "- `min_samples_split` = 250\n",
    "- `max_samples` = 100000"
   ]
  },
  {
   "cell_type": "code",
   "execution_count": 131,
   "metadata": {},
   "outputs": [
    {
     "data": {
      "text/plain": [
       "RandomForestRegressor(max_samples=100000, min_samples_split=250, n_jobs=-1,\n",
       "                      random_state=42)"
      ]
     },
     "execution_count": 131,
     "metadata": {},
     "output_type": "execute_result"
    }
   ],
   "source": [
    "rf = RandomForestRegressor(n_jobs=-1, random_state=42,\n",
    "                           min_samples_split=250, max_samples=100000)\n",
    "rf.fit(X_train_pca, y_train['R1M_Usd'].ravel())"
   ]
  },
  {
   "cell_type": "markdown",
   "metadata": {},
   "source": [
    "Evaluate the simple random forest regressor on validation set"
   ]
  },
  {
   "cell_type": "code",
   "execution_count": 132,
   "metadata": {},
   "outputs": [
    {
     "name": "stdout",
     "output_type": "stream",
     "text": [
      "Random Forest Regressor Training 1M Return RMSE: 0.1663298057739165\n",
      "Random Forest Regressor Validation 1M Return RMSE: 0.21091271283747293\n"
     ]
    }
   ],
   "source": [
    "rf_train_r1m = rf.predict(X_train_pca)\n",
    "rf_train_r1m_rmse = np.sqrt(mean_squared_error(y_train['R1M_Usd'], rf_train_r1m))\n",
    "print(f'Random Forest Regressor Training 1M Return RMSE: {rf_train_r1m_rmse}')\n",
    "\n",
    "rf_valid_r1m = rf.predict(X_valid_pca)\n",
    "rf_valid_r1m_rmse = np.sqrt(mean_squared_error(y_valid['R1M_Usd'], rf_valid_r1m))\n",
    "print(f'Random Forest Regressor Validation 1M Return RMSE: {rf_valid_r1m_rmse}')"
   ]
  },
  {
   "cell_type": "markdown",
   "metadata": {},
   "source": [
    "Find out the hit ratio of training and validation set, which is essentially the ratio of the number of times that our model predicts the correct return movement direction in relation to the number of predictions made"
   ]
  },
  {
   "cell_type": "code",
   "execution_count": 135,
   "metadata": {},
   "outputs": [
    {
     "name": "stdout",
     "output_type": "stream",
     "text": [
      "Random Forest Regressor Training Set 1M Return Hit Ratio: 0.5919785182203647\n",
      "Random Forest Regressor Validation 1M Return Hit Ratio: 0.5444520411989149\n"
     ]
    }
   ],
   "source": [
    "rf_train_r1m_hit = rf_train_r1m * np.ravel(y_train['R1M_Usd']) > 0\n",
    "print(f'Random Forest Regressor Training Set 1M Return Hit Ratio: {np.mean(rf_train_r1m_hit)}')\n",
    "\n",
    "rf_valid_r1m_hit = rf_valid_r1m * np.ravel(y_valid['R1M_Usd']) > 0\n",
    "print(f'Random Forest Regressor Validation 1M Return Hit Ratio: {np.mean(rf_valid_r1m_hit)}')"
   ]
  },
  {
   "cell_type": "markdown",
   "metadata": {},
   "source": [
    "**hyperparameters tuning**\n",
    "\n",
    "Now, we will tune in our Random Forest Regressor hyperparameters. In particular, we will consider the following options:\n",
    "- `n_estimators`: $[100, 300, 500, 750]$\n",
    "- `ccp_alpha`: $10^{-k}$, $k=0,1,\\dots,5$\n",
    "\n",
    "These options were chosen based on several runs of the grid search and observing that higher `n_estimators` and lower `ccp_alpha` values lead to better results."
   ]
  },
  {
   "cell_type": "markdown",
   "metadata": {},
   "source": [
    "Let's implement GridSearchCV from `sklearn model_selection module` to tune in our hyperparameters, with `neg_root_mean_squared_error` as the performance measure. We will fit our model on `X_train_pca` and use 3-fold CV. Additionally, we will also set `n_jobs=-1` to use all cores when training the model and also, do not forget to also use `random_state=42`. Lastly, similar to the default model, we will set the following parameters:\n",
    "- `min_samples_split` = 250\n",
    "- `max_samples` = 100000"
   ]
  },
  {
   "cell_type": "code",
   "execution_count": 113,
   "metadata": {},
   "outputs": [],
   "source": [
    "rf = RandomForestRegressor(random_state=42, min_samples_split=250,\n",
    "                           max_samples=100000, n_jobs=-1)\n",
    "\n",
    "param_dis = {\n",
    "    'n_estimators': [100, 300, 500, 750],\n",
    "    'ccp_alpha': [10**(-k) for k in range(0,6)]\n",
    "}"
   ]
  },
  {
   "cell_type": "code",
   "execution_count": 114,
   "metadata": {},
   "outputs": [],
   "source": [
    "grid_search = GridSearchCV(estimator=rf, param_grid=param_dis,\n",
    "                           cv=3, scoring='neg_root_mean_squared_error',\n",
    "                           verbose=2)"
   ]
  },
  {
   "cell_type": "code",
   "execution_count": 115,
   "metadata": {},
   "outputs": [
    {
     "name": "stdout",
     "output_type": "stream",
     "text": [
      "Fitting 3 folds for each of 24 candidates, totalling 72 fits\n",
      "[CV] END ......................ccp_alpha=1, n_estimators=100; total time=  12.2s\n",
      "[CV] END ......................ccp_alpha=1, n_estimators=100; total time=  11.3s\n",
      "[CV] END ......................ccp_alpha=1, n_estimators=100; total time=  11.1s\n",
      "[CV] END ......................ccp_alpha=1, n_estimators=300; total time=  31.8s\n",
      "[CV] END ......................ccp_alpha=1, n_estimators=300; total time=  30.2s\n",
      "[CV] END ......................ccp_alpha=1, n_estimators=300; total time=  32.3s\n",
      "[CV] END ......................ccp_alpha=1, n_estimators=500; total time=  53.0s\n",
      "[CV] END ......................ccp_alpha=1, n_estimators=500; total time=  50.3s\n",
      "[CV] END ......................ccp_alpha=1, n_estimators=500; total time=  57.3s\n",
      "[CV] END ......................ccp_alpha=1, n_estimators=750; total time= 1.3min\n",
      "[CV] END ......................ccp_alpha=1, n_estimators=750; total time= 1.3min\n",
      "[CV] END ......................ccp_alpha=1, n_estimators=750; total time= 1.3min\n",
      "[CV] END ....................ccp_alpha=0.1, n_estimators=100; total time=  11.2s\n",
      "[CV] END ....................ccp_alpha=0.1, n_estimators=100; total time=  10.4s\n",
      "[CV] END ....................ccp_alpha=0.1, n_estimators=100; total time=  11.0s\n",
      "[CV] END ....................ccp_alpha=0.1, n_estimators=300; total time=  31.7s\n",
      "[CV] END ....................ccp_alpha=0.1, n_estimators=300; total time=  29.9s\n",
      "[CV] END ....................ccp_alpha=0.1, n_estimators=300; total time=  31.9s\n",
      "[CV] END ....................ccp_alpha=0.1, n_estimators=500; total time=  52.9s\n",
      "[CV] END ....................ccp_alpha=0.1, n_estimators=500; total time=  49.8s\n",
      "[CV] END ....................ccp_alpha=0.1, n_estimators=500; total time=  52.9s\n",
      "[CV] END ....................ccp_alpha=0.1, n_estimators=750; total time= 1.3min\n",
      "[CV] END ....................ccp_alpha=0.1, n_estimators=750; total time= 1.2min\n",
      "[CV] END ....................ccp_alpha=0.1, n_estimators=750; total time= 1.3min\n",
      "[CV] END ...................ccp_alpha=0.01, n_estimators=100; total time=  11.0s\n",
      "[CV] END ...................ccp_alpha=0.01, n_estimators=100; total time=  10.5s\n",
      "[CV] END ...................ccp_alpha=0.01, n_estimators=100; total time=  10.9s\n",
      "[CV] END ...................ccp_alpha=0.01, n_estimators=300; total time=  31.6s\n",
      "[CV] END ...................ccp_alpha=0.01, n_estimators=300; total time=  29.8s\n",
      "[CV] END ...................ccp_alpha=0.01, n_estimators=300; total time=  33.2s\n",
      "[CV] END ...................ccp_alpha=0.01, n_estimators=500; total time=  53.5s\n",
      "[CV] END ...................ccp_alpha=0.01, n_estimators=500; total time=  51.2s\n",
      "[CV] END ...................ccp_alpha=0.01, n_estimators=500; total time=  53.7s\n",
      "[CV] END ...................ccp_alpha=0.01, n_estimators=750; total time= 1.3min\n",
      "[CV] END ...................ccp_alpha=0.01, n_estimators=750; total time= 1.3min\n",
      "[CV] END ...................ccp_alpha=0.01, n_estimators=750; total time= 1.3min\n",
      "[CV] END ..................ccp_alpha=0.001, n_estimators=100; total time=  10.8s\n",
      "[CV] END ..................ccp_alpha=0.001, n_estimators=100; total time=  10.3s\n",
      "[CV] END ..................ccp_alpha=0.001, n_estimators=100; total time=  10.7s\n",
      "[CV] END ..................ccp_alpha=0.001, n_estimators=300; total time=  31.5s\n",
      "[CV] END ..................ccp_alpha=0.001, n_estimators=300; total time=  30.0s\n",
      "[CV] END ..................ccp_alpha=0.001, n_estimators=300; total time=  32.0s\n",
      "[CV] END ..................ccp_alpha=0.001, n_estimators=500; total time=  53.2s\n",
      "[CV] END ..................ccp_alpha=0.001, n_estimators=500; total time=  50.6s\n",
      "[CV] END ..................ccp_alpha=0.001, n_estimators=500; total time=  54.3s\n",
      "[CV] END ..................ccp_alpha=0.001, n_estimators=750; total time= 1.4min\n",
      "[CV] END ..................ccp_alpha=0.001, n_estimators=750; total time= 1.2min\n",
      "[CV] END ..................ccp_alpha=0.001, n_estimators=750; total time= 1.3min\n",
      "[CV] END .................ccp_alpha=0.0001, n_estimators=100; total time=  11.0s\n",
      "[CV] END .................ccp_alpha=0.0001, n_estimators=100; total time=  10.8s\n",
      "[CV] END .................ccp_alpha=0.0001, n_estimators=100; total time=  11.3s\n",
      "[CV] END .................ccp_alpha=0.0001, n_estimators=300; total time=  32.5s\n",
      "[CV] END .................ccp_alpha=0.0001, n_estimators=300; total time=  29.8s\n",
      "[CV] END .................ccp_alpha=0.0001, n_estimators=300; total time=  32.3s\n",
      "[CV] END .................ccp_alpha=0.0001, n_estimators=500; total time=  54.5s\n",
      "[CV] END .................ccp_alpha=0.0001, n_estimators=500; total time=  52.3s\n",
      "[CV] END .................ccp_alpha=0.0001, n_estimators=500; total time=  54.8s\n",
      "[CV] END .................ccp_alpha=0.0001, n_estimators=750; total time= 1.3min\n",
      "[CV] END .................ccp_alpha=0.0001, n_estimators=750; total time= 1.3min\n",
      "[CV] END .................ccp_alpha=0.0001, n_estimators=750; total time= 1.4min\n",
      "[CV] END ..................ccp_alpha=1e-05, n_estimators=100; total time=  11.4s\n",
      "[CV] END ..................ccp_alpha=1e-05, n_estimators=100; total time=  10.8s\n",
      "[CV] END ..................ccp_alpha=1e-05, n_estimators=100; total time=  11.1s\n",
      "[CV] END ..................ccp_alpha=1e-05, n_estimators=300; total time=  32.4s\n",
      "[CV] END ..................ccp_alpha=1e-05, n_estimators=300; total time=  30.8s\n",
      "[CV] END ..................ccp_alpha=1e-05, n_estimators=300; total time=  33.0s\n",
      "[CV] END ..................ccp_alpha=1e-05, n_estimators=500; total time=  53.8s\n",
      "[CV] END ..................ccp_alpha=1e-05, n_estimators=500; total time=  51.7s\n",
      "[CV] END ..................ccp_alpha=1e-05, n_estimators=500; total time=  54.6s\n",
      "[CV] END ..................ccp_alpha=1e-05, n_estimators=750; total time= 1.4min\n",
      "[CV] END ..................ccp_alpha=1e-05, n_estimators=750; total time= 1.3min\n",
      "[CV] END ..................ccp_alpha=1e-05, n_estimators=750; total time= 1.3min\n"
     ]
    },
    {
     "data": {
      "text/plain": [
       "GridSearchCV(cv=3,\n",
       "             estimator=RandomForestRegressor(max_samples=100000,\n",
       "                                             min_samples_split=250, n_jobs=-1,\n",
       "                                             random_state=42),\n",
       "             param_grid={'ccp_alpha': [1, 0.1, 0.01, 0.001, 0.0001, 1e-05],\n",
       "                         'n_estimators': [100, 300, 500, 750]},\n",
       "             scoring='neg_root_mean_squared_error', verbose=2)"
      ]
     },
     "execution_count": 115,
     "metadata": {},
     "output_type": "execute_result"
    }
   ],
   "source": [
    "grid_search.fit(X_train_pca, y_train['R1M_Usd'].ravel())"
   ]
  },
  {
   "cell_type": "markdown",
   "metadata": {},
   "source": [
    "Find out the best Random Forest Regressor hyperparameters based on Grid Search CV"
   ]
  },
  {
   "cell_type": "code",
   "execution_count": 117,
   "metadata": {},
   "outputs": [
    {
     "data": {
      "text/plain": [
       "{'ccp_alpha': 0.01, 'n_estimators': 500}"
      ]
     },
     "execution_count": 117,
     "metadata": {},
     "output_type": "execute_result"
    }
   ],
   "source": [
    "grid_search.best_params_"
   ]
  },
  {
   "cell_type": "markdown",
   "metadata": {},
   "source": [
    "Find out best random seach model performance on train set (RMSE and hit ratio)"
   ]
  },
  {
   "cell_type": "code",
   "execution_count": 134,
   "metadata": {},
   "outputs": [
    {
     "name": "stdout",
     "output_type": "stream",
     "text": [
      "Random Forest Regressor Best Grid Search Model Training Set 1M Return RMSE: 0.17492339430094453\n",
      "Random Forest Regressor Best Grid Search Model Training Set 1M Return Hit Ratio: 0.552962842476139\n"
     ]
    }
   ],
   "source": [
    "# RMSE\n",
    "gs_train_r1m = grid_search.best_estimator_.predict(X_train_pca)\n",
    "gs_train_r1m_rmse = np.sqrt(mean_squared_error(y_train['R1M_Usd'],\n",
    "                                               gs_train_r1m))\n",
    "print(f'Random Forest Regressor Best Grid Search Model Training Set 1M Return RMSE: {gs_train_r1m_rmse}')\n",
    "\n",
    "# hit ratio\n",
    "gs_train_r1m_hit = gs_train_r1m * np.ravel(y_train['R1M_Usd']) > 0\n",
    "print(f'Random Forest Regressor Best Grid Search Model Training Set 1M Return Hit Ratio: {np.mean(gs_train_r1m_hit)}')"
   ]
  },
  {
   "cell_type": "markdown",
   "metadata": {},
   "source": [
    "Evaluate best random search model on validation set (RMSE and hit ratio)"
   ]
  },
  {
   "cell_type": "code",
   "execution_count": 136,
   "metadata": {},
   "outputs": [
    {
     "name": "stdout",
     "output_type": "stream",
     "text": [
      "Random Forest Regressor Best Grid Search Model Validation 1M Return RMSE: 0.20612212472021468\n",
      "Random Forest Regressor Best Grid Search Model Validation 1M Return Hit Ratio: 0.5525242054652522\n"
     ]
    }
   ],
   "source": [
    "# RMSE\n",
    "gs_valid_r1m = grid_search.best_estimator_.predict(X_valid_pca)\n",
    "gs_valid_r1m_rmse = np.sqrt(mean_squared_error(y_valid['R1M_Usd'],\n",
    "                                               gs_valid_r1m))\n",
    "print(f'Random Forest Regressor Best Grid Search Model Validation 1M Return RMSE: {gs_valid_r1m_rmse}')\n",
    "\n",
    "# hit ratio\n",
    "gs_valid_r1m_hit = gs_valid_r1m * np.ravel(y_valid['R1M_Usd']) > 0\n",
    "print(f'Random Forest Regressor Best Grid Search Model Validation 1M Return Hit Ratio: {np.mean(gs_valid_r1m_hit)}')"
   ]
  },
  {
   "cell_type": "markdown",
   "metadata": {},
   "source": [
    "Evaluate best random search model on test set (RMSE and hit ratio)"
   ]
  },
  {
   "cell_type": "code",
   "execution_count": 155,
   "metadata": {},
   "outputs": [
    {
     "name": "stdout",
     "output_type": "stream",
     "text": [
      "Random Forest Regressor Best Grid Search Model Test Set 1M Return RMSE: 0.1609416882716827\n",
      "Random Forest Regressor Best Grid Search Model Test Set 1M Return Hit Ratio: 0.5513974168960406\n"
     ]
    }
   ],
   "source": [
    "# RMSE\n",
    "gs_test_r1m = grid_search.best_estimator_.predict(X_test_pca)\n",
    "gs_test_r1m_rmse = np.sqrt(mean_squared_error(y_test['R1M_Usd'],\n",
    "                                               gs_test_r1m))\n",
    "print(f'Random Forest Regressor Best Grid Search Model Test Set 1M Return RMSE: {gs_test_r1m_rmse}')\n",
    "\n",
    "# hit ratio\n",
    "gs_test_r1m_hit = gs_test_r1m * np.ravel(y_test['R1M_Usd']) > 0\n",
    "print(f'Random Forest Regressor Best Grid Search Model Test Set 1M Return Hit Ratio: {np.mean(gs_test_r1m_hit)}')"
   ]
  },
  {
   "cell_type": "markdown",
   "metadata": {},
   "source": [
    "**Summary of Random Forest performance**"
   ]
  },
  {
   "cell_type": "code",
   "execution_count": 156,
   "metadata": {},
   "outputs": [
    {
     "name": "stdout",
     "output_type": "stream",
     "text": [
      "Random Forest Best Hyperparameter: {'ccp_alpha': 0.01, 'n_estimators': 500}\n",
      "Random Forest Train Set RMSE: 0.17492339430094453\n",
      "Random Forest Train Set Hit Ratio: 0.552962842476139\n",
      "Random Forest Validation Set RMSE: 0.20612212472021468\n",
      "Random Forest Validation Set Hit Ratio: 0.5525242054652522\n",
      "Random Forest Test Set RMSE: 0.1609416882716827\n",
      "Random Forest Test Set Hit Ratio: 0.5513974168960406\n"
     ]
    }
   ],
   "source": [
    "# report best hyperparameter performance\n",
    "print(f'Random Forest Best Hyperparameter: {grid_search.best_params_}')\n",
    "print(f'Random Forest Train Set RMSE: {gs_train_r1m_rmse}')\n",
    "print(f'Random Forest Train Set Hit Ratio: {np.mean(gs_train_r1m_hit)}')\n",
    "print(f'Random Forest Validation Set RMSE: {gs_valid_r1m_rmse}')\n",
    "print(f'Random Forest Validation Set Hit Ratio: {np.mean(gs_valid_r1m_hit)}')\n",
    "print(f'Random Forest Test Set RMSE: {gs_test_r1m_rmse}')\n",
    "print(f'Random Forest Test Set Hit Ratio: {np.mean(gs_test_r1m_hit)}')"
   ]
  },
  {
   "cell_type": "markdown",
   "metadata": {},
   "source": [
    "##### **Random Forest Regressor Result Discussion**\n",
    "\n",
    "From the results above, we were able to obtain a hit ratio of around $55.3\\%$ with a root mean squared error of $0.21$ on the validation set, and $55.1\\%$ hit ratio and $0.16$ root mean square error on the test set. When we compare the performance with the simple 0 model, our best random forest model has a very similar (almost the same) root mean square error, with less number of features used in the training (from 9 features to 4 features), cut down by more than double the number of features! Additionally, when we evaluate our best random search model on both the training and validation set, we also observe that the RMSE and hit ratio is close to one anohter, meaning our model does not overfit the training set. Last but not least, we also achieved our best random forest model with hyperparemeters `ccp_alpha=0.01` and `n_estimators=500`. "
   ]
  },
  {
   "cell_type": "markdown",
   "metadata": {},
   "source": [
    "# Ada Boost Regressor\n",
    "**Author: Davis Kurniawan**\n",
    "\n",
    "For our second approach, we will be implementing adaptive boosting regression to fit the fundamental factors and the returns value. We will first set the target variable as the 1 month return and evaluate the result of using the default hyperparameter of `AdaBoostRegressor` on the validation set. Then, we will tune our hyperparameters, namely `learning_rate`, `n_estimators`, and `loss` in order to get the best hyperparameters based on the root mean squared error scoring. To do this, we will use `GridSearchCV` to perform 3-fold cross validation and find out which combination of hyperparameters yields the best score. Last but not least, we will once again fit the best model and evaluate the RMSE score on the test set to compare the overall performance of the adaptive boosting model and the simple 0 model. Another reason we chose only several feature variables is that the adaptive boosting model runs incredibly slow with a lot features."
   ]
  },
  {
   "cell_type": "markdown",
   "metadata": {},
   "source": [
    "The first step is to train the model using `AdaBoostRegressor` with default parameters."
   ]
  },
  {
   "cell_type": "code",
   "execution_count": 53,
   "metadata": {},
   "outputs": [
    {
     "data": {
      "text/html": [
       "<style>#sk-container-id-2 {color: black;background-color: white;}#sk-container-id-2 pre{padding: 0;}#sk-container-id-2 div.sk-toggleable {background-color: white;}#sk-container-id-2 label.sk-toggleable__label {cursor: pointer;display: block;width: 100%;margin-bottom: 0;padding: 0.3em;box-sizing: border-box;text-align: center;}#sk-container-id-2 label.sk-toggleable__label-arrow:before {content: \"▸\";float: left;margin-right: 0.25em;color: #696969;}#sk-container-id-2 label.sk-toggleable__label-arrow:hover:before {color: black;}#sk-container-id-2 div.sk-estimator:hover label.sk-toggleable__label-arrow:before {color: black;}#sk-container-id-2 div.sk-toggleable__content {max-height: 0;max-width: 0;overflow: hidden;text-align: left;background-color: #f0f8ff;}#sk-container-id-2 div.sk-toggleable__content pre {margin: 0.2em;color: black;border-radius: 0.25em;background-color: #f0f8ff;}#sk-container-id-2 input.sk-toggleable__control:checked~div.sk-toggleable__content {max-height: 200px;max-width: 100%;overflow: auto;}#sk-container-id-2 input.sk-toggleable__control:checked~label.sk-toggleable__label-arrow:before {content: \"▾\";}#sk-container-id-2 div.sk-estimator input.sk-toggleable__control:checked~label.sk-toggleable__label {background-color: #d4ebff;}#sk-container-id-2 div.sk-label input.sk-toggleable__control:checked~label.sk-toggleable__label {background-color: #d4ebff;}#sk-container-id-2 input.sk-hidden--visually {border: 0;clip: rect(1px 1px 1px 1px);clip: rect(1px, 1px, 1px, 1px);height: 1px;margin: -1px;overflow: hidden;padding: 0;position: absolute;width: 1px;}#sk-container-id-2 div.sk-estimator {font-family: monospace;background-color: #f0f8ff;border: 1px dotted black;border-radius: 0.25em;box-sizing: border-box;margin-bottom: 0.5em;}#sk-container-id-2 div.sk-estimator:hover {background-color: #d4ebff;}#sk-container-id-2 div.sk-parallel-item::after {content: \"\";width: 100%;border-bottom: 1px solid gray;flex-grow: 1;}#sk-container-id-2 div.sk-label:hover label.sk-toggleable__label {background-color: #d4ebff;}#sk-container-id-2 div.sk-serial::before {content: \"\";position: absolute;border-left: 1px solid gray;box-sizing: border-box;top: 0;bottom: 0;left: 50%;z-index: 0;}#sk-container-id-2 div.sk-serial {display: flex;flex-direction: column;align-items: center;background-color: white;padding-right: 0.2em;padding-left: 0.2em;position: relative;}#sk-container-id-2 div.sk-item {position: relative;z-index: 1;}#sk-container-id-2 div.sk-parallel {display: flex;align-items: stretch;justify-content: center;background-color: white;position: relative;}#sk-container-id-2 div.sk-item::before, #sk-container-id-2 div.sk-parallel-item::before {content: \"\";position: absolute;border-left: 1px solid gray;box-sizing: border-box;top: 0;bottom: 0;left: 50%;z-index: -1;}#sk-container-id-2 div.sk-parallel-item {display: flex;flex-direction: column;z-index: 1;position: relative;background-color: white;}#sk-container-id-2 div.sk-parallel-item:first-child::after {align-self: flex-end;width: 50%;}#sk-container-id-2 div.sk-parallel-item:last-child::after {align-self: flex-start;width: 50%;}#sk-container-id-2 div.sk-parallel-item:only-child::after {width: 0;}#sk-container-id-2 div.sk-dashed-wrapped {border: 1px dashed gray;margin: 0 0.4em 0.5em 0.4em;box-sizing: border-box;padding-bottom: 0.4em;background-color: white;}#sk-container-id-2 div.sk-label label {font-family: monospace;font-weight: bold;display: inline-block;line-height: 1.2em;}#sk-container-id-2 div.sk-label-container {text-align: center;}#sk-container-id-2 div.sk-container {/* jupyter's `normalize.less` sets `[hidden] { display: none; }` but bootstrap.min.css set `[hidden] { display: none !important; }` so we also need the `!important` here to be able to override the default hidden behavior on the sphinx rendered scikit-learn.org. See: https://github.com/scikit-learn/scikit-learn/issues/21755 */display: inline-block !important;position: relative;}#sk-container-id-2 div.sk-text-repr-fallback {display: none;}</style><div id=\"sk-container-id-2\" class=\"sk-top-container\"><div class=\"sk-text-repr-fallback\"><pre>AdaBoostRegressor(base_estimator=DecisionTreeRegressor(max_depth=3),\n",
       "                  learning_rate=1, random_state=42)</pre><b>In a Jupyter environment, please rerun this cell to show the HTML representation or trust the notebook. <br />On GitHub, the HTML representation is unable to render, please try loading this page with nbviewer.org.</b></div><div class=\"sk-container\" hidden><div class=\"sk-item sk-dashed-wrapped\"><div class=\"sk-label-container\"><div class=\"sk-label sk-toggleable\"><input class=\"sk-toggleable__control sk-hidden--visually\" id=\"sk-estimator-id-4\" type=\"checkbox\" ><label for=\"sk-estimator-id-4\" class=\"sk-toggleable__label sk-toggleable__label-arrow\">AdaBoostRegressor</label><div class=\"sk-toggleable__content\"><pre>AdaBoostRegressor(base_estimator=DecisionTreeRegressor(max_depth=3),\n",
       "                  learning_rate=1, random_state=42)</pre></div></div></div><div class=\"sk-parallel\"><div class=\"sk-parallel-item\"><div class=\"sk-item\"><div class=\"sk-label-container\"><div class=\"sk-label sk-toggleable\"><input class=\"sk-toggleable__control sk-hidden--visually\" id=\"sk-estimator-id-5\" type=\"checkbox\" ><label for=\"sk-estimator-id-5\" class=\"sk-toggleable__label sk-toggleable__label-arrow\">base_estimator: DecisionTreeRegressor</label><div class=\"sk-toggleable__content\"><pre>DecisionTreeRegressor(max_depth=3)</pre></div></div></div><div class=\"sk-serial\"><div class=\"sk-item\"><div class=\"sk-estimator sk-toggleable\"><input class=\"sk-toggleable__control sk-hidden--visually\" id=\"sk-estimator-id-6\" type=\"checkbox\" ><label for=\"sk-estimator-id-6\" class=\"sk-toggleable__label sk-toggleable__label-arrow\">DecisionTreeRegressor</label><div class=\"sk-toggleable__content\"><pre>DecisionTreeRegressor(max_depth=3)</pre></div></div></div></div></div></div></div></div></div></div>"
      ],
      "text/plain": [
       "AdaBoostRegressor(base_estimator=DecisionTreeRegressor(max_depth=3),\n",
       "                  learning_rate=1, random_state=42)"
      ]
     },
     "execution_count": 53,
     "metadata": {},
     "output_type": "execute_result"
    }
   ],
   "source": [
    "ada_reg = AdaBoostRegressor(DecisionTreeRegressor(max_depth=3), n_estimators=50, learning_rate=1, loss=\"linear\", random_state=42) \n",
    "ada_reg.fit(X_train, y_train[\"R1M_Usd\"])"
   ]
  },
  {
   "cell_type": "markdown",
   "metadata": {},
   "source": [
    "We can test the default model using `AdaBoostRegressor` on the validation set to evaluate the model performances. In this case, the metrics are mean squared error and hit ratio."
   ]
  },
  {
   "cell_type": "code",
   "execution_count": 54,
   "metadata": {},
   "outputs": [
    {
     "name": "stdout",
     "output_type": "stream",
     "text": [
      "MSE: 1.352274107853777\n",
      "RMSE: 1.162873212286609\n"
     ]
    }
   ],
   "source": [
    "y_val_pred = ada_reg.predict(X_valid)\n",
    "mse = mean_squared_error(y_valid[\"R1M_Usd\"], y_val_pred)\n",
    "\n",
    "print(f\"MSE: {mse}\")\n",
    "print(f\"RMSE: {np.sqrt(mse)}\")"
   ]
  },
  {
   "cell_type": "code",
   "execution_count": 55,
   "metadata": {},
   "outputs": [
    {
     "name": "stdout",
     "output_type": "stream",
     "text": [
      "Hit Ratio: 0.5525242054652522\n"
     ]
    }
   ],
   "source": [
    "hit_ratio_default = np.mean(ada_reg.predict(X_valid) * y_valid[\"R1M_Usd\"] > 0)\n",
    "print(f\"Hit Ratio: {hit_ratio_default}\")"
   ]
  },
  {
   "cell_type": "markdown",
   "metadata": {},
   "source": [
    "The hit ratio from the default AdaBoost model is around $55.25\\%$ with $1.16$ root mean squared error. Let's see if we can improve the performance by tuning the hyperparameters using `GridSearchCV`. The hyperparameters that we are trying to tune are the `learning_rate`, `n_estimators`, and `loss`. The `GridSearchCV` will perform 3-fold cross validation to find the best combination of hyperparameters that yields the best performance."
   ]
  },
  {
   "cell_type": "code",
   "execution_count": 70,
   "metadata": {},
   "outputs": [
    {
     "name": "stdout",
     "output_type": "stream",
     "text": [
      "Fitting 3 folds for each of 36 candidates, totalling 108 fits\n"
     ]
    },
    {
     "data": {
      "text/html": [
       "<style>#sk-container-id-7 {color: black;background-color: white;}#sk-container-id-7 pre{padding: 0;}#sk-container-id-7 div.sk-toggleable {background-color: white;}#sk-container-id-7 label.sk-toggleable__label {cursor: pointer;display: block;width: 100%;margin-bottom: 0;padding: 0.3em;box-sizing: border-box;text-align: center;}#sk-container-id-7 label.sk-toggleable__label-arrow:before {content: \"▸\";float: left;margin-right: 0.25em;color: #696969;}#sk-container-id-7 label.sk-toggleable__label-arrow:hover:before {color: black;}#sk-container-id-7 div.sk-estimator:hover label.sk-toggleable__label-arrow:before {color: black;}#sk-container-id-7 div.sk-toggleable__content {max-height: 0;max-width: 0;overflow: hidden;text-align: left;background-color: #f0f8ff;}#sk-container-id-7 div.sk-toggleable__content pre {margin: 0.2em;color: black;border-radius: 0.25em;background-color: #f0f8ff;}#sk-container-id-7 input.sk-toggleable__control:checked~div.sk-toggleable__content {max-height: 200px;max-width: 100%;overflow: auto;}#sk-container-id-7 input.sk-toggleable__control:checked~label.sk-toggleable__label-arrow:before {content: \"▾\";}#sk-container-id-7 div.sk-estimator input.sk-toggleable__control:checked~label.sk-toggleable__label {background-color: #d4ebff;}#sk-container-id-7 div.sk-label input.sk-toggleable__control:checked~label.sk-toggleable__label {background-color: #d4ebff;}#sk-container-id-7 input.sk-hidden--visually {border: 0;clip: rect(1px 1px 1px 1px);clip: rect(1px, 1px, 1px, 1px);height: 1px;margin: -1px;overflow: hidden;padding: 0;position: absolute;width: 1px;}#sk-container-id-7 div.sk-estimator {font-family: monospace;background-color: #f0f8ff;border: 1px dotted black;border-radius: 0.25em;box-sizing: border-box;margin-bottom: 0.5em;}#sk-container-id-7 div.sk-estimator:hover {background-color: #d4ebff;}#sk-container-id-7 div.sk-parallel-item::after {content: \"\";width: 100%;border-bottom: 1px solid gray;flex-grow: 1;}#sk-container-id-7 div.sk-label:hover label.sk-toggleable__label {background-color: #d4ebff;}#sk-container-id-7 div.sk-serial::before {content: \"\";position: absolute;border-left: 1px solid gray;box-sizing: border-box;top: 0;bottom: 0;left: 50%;z-index: 0;}#sk-container-id-7 div.sk-serial {display: flex;flex-direction: column;align-items: center;background-color: white;padding-right: 0.2em;padding-left: 0.2em;position: relative;}#sk-container-id-7 div.sk-item {position: relative;z-index: 1;}#sk-container-id-7 div.sk-parallel {display: flex;align-items: stretch;justify-content: center;background-color: white;position: relative;}#sk-container-id-7 div.sk-item::before, #sk-container-id-7 div.sk-parallel-item::before {content: \"\";position: absolute;border-left: 1px solid gray;box-sizing: border-box;top: 0;bottom: 0;left: 50%;z-index: -1;}#sk-container-id-7 div.sk-parallel-item {display: flex;flex-direction: column;z-index: 1;position: relative;background-color: white;}#sk-container-id-7 div.sk-parallel-item:first-child::after {align-self: flex-end;width: 50%;}#sk-container-id-7 div.sk-parallel-item:last-child::after {align-self: flex-start;width: 50%;}#sk-container-id-7 div.sk-parallel-item:only-child::after {width: 0;}#sk-container-id-7 div.sk-dashed-wrapped {border: 1px dashed gray;margin: 0 0.4em 0.5em 0.4em;box-sizing: border-box;padding-bottom: 0.4em;background-color: white;}#sk-container-id-7 div.sk-label label {font-family: monospace;font-weight: bold;display: inline-block;line-height: 1.2em;}#sk-container-id-7 div.sk-label-container {text-align: center;}#sk-container-id-7 div.sk-container {/* jupyter's `normalize.less` sets `[hidden] { display: none; }` but bootstrap.min.css set `[hidden] { display: none !important; }` so we also need the `!important` here to be able to override the default hidden behavior on the sphinx rendered scikit-learn.org. See: https://github.com/scikit-learn/scikit-learn/issues/21755 */display: inline-block !important;position: relative;}#sk-container-id-7 div.sk-text-repr-fallback {display: none;}</style><div id=\"sk-container-id-7\" class=\"sk-top-container\"><div class=\"sk-text-repr-fallback\"><pre>GridSearchCV(cv=3, estimator=AdaBoostRegressor(), n_jobs=-1,\n",
       "             param_grid={&#x27;learning_rate&#x27;: [0.001, 0.01, 0.1],\n",
       "                         &#x27;loss&#x27;: [&#x27;linear&#x27;, &#x27;square&#x27;, &#x27;exponential&#x27;],\n",
       "                         &#x27;n_estimators&#x27;: [75, 100, 125, 150]},\n",
       "             scoring=&#x27;neg_root_mean_squared_error&#x27;, verbose=2)</pre><b>In a Jupyter environment, please rerun this cell to show the HTML representation or trust the notebook. <br />On GitHub, the HTML representation is unable to render, please try loading this page with nbviewer.org.</b></div><div class=\"sk-container\" hidden><div class=\"sk-item sk-dashed-wrapped\"><div class=\"sk-label-container\"><div class=\"sk-label sk-toggleable\"><input class=\"sk-toggleable__control sk-hidden--visually\" id=\"sk-estimator-id-19\" type=\"checkbox\" ><label for=\"sk-estimator-id-19\" class=\"sk-toggleable__label sk-toggleable__label-arrow\">GridSearchCV</label><div class=\"sk-toggleable__content\"><pre>GridSearchCV(cv=3, estimator=AdaBoostRegressor(), n_jobs=-1,\n",
       "             param_grid={&#x27;learning_rate&#x27;: [0.001, 0.01, 0.1],\n",
       "                         &#x27;loss&#x27;: [&#x27;linear&#x27;, &#x27;square&#x27;, &#x27;exponential&#x27;],\n",
       "                         &#x27;n_estimators&#x27;: [75, 100, 125, 150]},\n",
       "             scoring=&#x27;neg_root_mean_squared_error&#x27;, verbose=2)</pre></div></div></div><div class=\"sk-parallel\"><div class=\"sk-parallel-item\"><div class=\"sk-item\"><div class=\"sk-label-container\"><div class=\"sk-label sk-toggleable\"><input class=\"sk-toggleable__control sk-hidden--visually\" id=\"sk-estimator-id-20\" type=\"checkbox\" ><label for=\"sk-estimator-id-20\" class=\"sk-toggleable__label sk-toggleable__label-arrow\">estimator: AdaBoostRegressor</label><div class=\"sk-toggleable__content\"><pre>AdaBoostRegressor()</pre></div></div></div><div class=\"sk-serial\"><div class=\"sk-item\"><div class=\"sk-estimator sk-toggleable\"><input class=\"sk-toggleable__control sk-hidden--visually\" id=\"sk-estimator-id-21\" type=\"checkbox\" ><label for=\"sk-estimator-id-21\" class=\"sk-toggleable__label sk-toggleable__label-arrow\">AdaBoostRegressor</label><div class=\"sk-toggleable__content\"><pre>AdaBoostRegressor()</pre></div></div></div></div></div></div></div></div></div></div>"
      ],
      "text/plain": [
       "GridSearchCV(cv=3, estimator=AdaBoostRegressor(), n_jobs=-1,\n",
       "             param_grid={'learning_rate': [0.001, 0.01, 0.1],\n",
       "                         'loss': ['linear', 'square', 'exponential'],\n",
       "                         'n_estimators': [75, 100, 125, 150]},\n",
       "             scoring='neg_root_mean_squared_error', verbose=2)"
      ]
     },
     "execution_count": 70,
     "metadata": {},
     "output_type": "execute_result"
    }
   ],
   "source": [
    "best_params = {\"learning_rate\":[0.001, 0.01, 0.1],\n",
    "               \"n_estimators\": [75, 100, 125, 150],\n",
    "               \"loss\" : [\"linear\", \"square\", \"exponential\"]}\n",
    "\n",
    "best_ada_reg = GridSearchCV(AdaBoostRegressor(), scoring=\"neg_root_mean_squared_error\", param_grid=best_params, verbose=2, cv=3, n_jobs=-1)\n",
    "best_ada_reg.fit(X_train, y_train[\"R1M_Usd\"])"
   ]
  },
  {
   "cell_type": "code",
   "execution_count": 71,
   "metadata": {},
   "outputs": [
    {
     "data": {
      "text/plain": [
       "{'learning_rate': 0.001, 'loss': 'linear', 'n_estimators': 125}"
      ]
     },
     "execution_count": 71,
     "metadata": {},
     "output_type": "execute_result"
    }
   ],
   "source": [
    "best_ada_reg.best_params_"
   ]
  },
  {
   "cell_type": "code",
   "execution_count": 72,
   "metadata": {},
   "outputs": [
    {
     "name": "stdout",
     "output_type": "stream",
     "text": [
      "RMSE: 0.16066727023909216\n"
     ]
    }
   ],
   "source": [
    "# test the model on the test set\n",
    "final_ada_reg = best_ada_reg.best_estimator_\n",
    "y_pred_final = final_ada_reg.predict(X_test)\n",
    "final_mse = mean_squared_error(y_test[\"R1M_Usd\"], y_pred_final)\n",
    "\n",
    "print(f\"RMSE: {np.sqrt(final_mse)}\")"
   ]
  },
  {
   "cell_type": "code",
   "execution_count": 73,
   "metadata": {},
   "outputs": [
    {
     "name": "stdout",
     "output_type": "stream",
     "text": [
      "Hit Ratio: 0.5513974168960406\n"
     ]
    }
   ],
   "source": [
    "best_hit_ratio = np.mean(final_ada_reg.predict(X_test) * y_test[\"R1M_Usd\"] > 0)\n",
    "print(f\"Hit Ratio: {best_hit_ratio}\")"
   ]
  },
  {
   "cell_type": "markdown",
   "metadata": {},
   "source": [
    "We were able to significantly reduce the mean squared error at around $0.16$, but the hit ratio more less remains the same at around $55.14\\%$."
   ]
  },
  {
   "cell_type": "code",
   "execution_count": 74,
   "metadata": {},
   "outputs": [
    {
     "data": {
      "text/plain": [
       "array([0.07514756, 0.06994619, 0.05669319, 0.28095949, 0.20676769,\n",
       "       0.00865158, 0.02832419, 0.07459664, 0.19891346])"
      ]
     },
     "execution_count": 74,
     "metadata": {},
     "output_type": "execute_result"
    }
   ],
   "source": [
    "final_ada_reg.feature_importances_"
   ]
  },
  {
   "cell_type": "code",
   "execution_count": 77,
   "metadata": {},
   "outputs": [
    {
     "data": {
      "text/plain": [
       "Index(['dividend_yield', 'growth', 'leverage', 'liquidity', 'profitability',\n",
       "       'value', 'size', 'volatility', 'momentum'],\n",
       "      dtype='object')"
      ]
     },
     "execution_count": 77,
     "metadata": {},
     "output_type": "execute_result"
    }
   ],
   "source": [
    "X.columns"
   ]
  },
  {
   "cell_type": "markdown",
   "metadata": {},
   "source": [
    "The four most important features are the liquidity with $28.09\\%$, profitability with $20.68\\%$, and momentum with $19.89\\%$ of feature importance."
   ]
  },
  {
   "cell_type": "markdown",
   "metadata": {},
   "source": [
    "##### **Ada Boost Regressor Result Discussion**\n",
    "\n",
    "From the results above, we were able to obtain a hit ratio of around $55\\%$ with a root mean squared error of $0.16$. The most important features that affect the target variable(1 month return forward) are liquidity, profitability, and momentum. Compared to the 0 model, we see a significant improvement in the root mean squared error from the adaptive boosting model with the optimal hyperparameters. The achieved optimal hyper parameters are 0.001 for the `learning_rate`, linear for the `loss`, and 125 for the `n_estimators`."
   ]
  },
  {
   "cell_type": "markdown",
   "metadata": {},
   "source": [
    "# Performance Evaluation and Conclusion"
   ]
  },
  {
   "cell_type": "markdown",
   "metadata": {},
   "source": [
    "From our model training and evaluation, we noted that the overall performance of Random Forest regressor and Ada Boost regressor are very similar to one another and both of these models exceed the performance of the simple 0 model. With the very similar performance evaluation, it is actually hard to pick which model is the best. However, note that we actually use PCA with 70% explained variance ratio in the random forest model. This made the number of features used in the model to decrease from 9 to 4 features, which is a significant number in our case. As a result, with this, we concluded that the Random Forest regressor with hyperparemeters `ccp_alpha=0.01` and `n_estimators=500` is the best model among the three models (simple 0 model, Ada Boost, and Random Forest).  "
   ]
  }
 ],
 "metadata": {
  "interpreter": {
   "hash": "aee8b7b246df8f9039afb4144a1f6fd8d2ca17a180786b69acc140d282b71a49"
  },
  "kernelspec": {
   "display_name": "Python 3.9.10 64-bit",
   "language": "python",
   "name": "python3"
  },
  "language_info": {
   "codemirror_mode": {
    "name": "ipython",
    "version": 3
   },
   "file_extension": ".py",
   "mimetype": "text/x-python",
   "name": "python",
   "nbconvert_exporter": "python",
   "pygments_lexer": "ipython3",
   "version": "3.9.10"
  },
  "orig_nbformat": 4
 },
 "nbformat": 4,
 "nbformat_minor": 2
}
